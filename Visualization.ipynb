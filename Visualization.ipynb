{
 "cells": [
  {
   "cell_type": "code",
   "execution_count": 3,
   "metadata": {},
   "outputs": [
    {
     "name": "stderr",
     "output_type": "stream",
     "text": [
      "/anaconda2/lib/python2.7/site-packages/IPython/core/interactiveshell.py:2718: DtypeWarning: Columns (22,32) have mixed types. Specify dtype option on import or set low_memory=False.\n",
      "  interactivity=interactivity, compiler=compiler, result=result)\n"
     ]
    }
   ],
   "source": [
    "import numpy as np\n",
    "import pandas as pd\n",
    "import matplotlib.pyplot as plt\n",
    "df_permits = pd.read_csv(\"./building-permit-applications-data/Building_Permits.csv\")\n",
    "df_permits_col = df_permits[[\"Permit Type\",\"Filed Date\",'Issued Date','Supervisor District','Zipcode','Current Status']]\n",
    "df_permits_col.columns=['Permit_Type','Filed_Date','Issued_Date','Supervisor_District','Zipcode','Current_Status']"
   ]
  },
  {
   "cell_type": "code",
   "execution_count": 10,
   "metadata": {},
   "outputs": [
    {
     "data": {
      "image/png": "[encoded data removed]",
      "text/plain": [
       "<matplotlib.figure.Figure at 0x11715f1d0>"
      ]
     },
     "metadata": {},
     "output_type": "display_data"
    },
    {
     "data": {
      "text/html": [
       "<div>\n",
       "<style>\n",
       "    .dataframe thead tr:only-child th {\n",
       "        text-align: right;\n",
       "    }\n",
       "\n",
       "    .dataframe thead th {\n",
       "        text-align: left;\n",
       "    }\n",
       "\n",
       "    .dataframe tbody tr th {\n",
       "        vertical-align: top;\n",
       "    }\n",
       "</style>\n",
       "<table border=\"1\" class=\"dataframe\">\n",
       "  <thead>\n",
       "    <tr style=\"text-align: right;\">\n",
       "      <th></th>\n",
       "      <th>Zipcode</th>\n",
       "      <th>count</th>\n",
       "    </tr>\n",
       "  </thead>\n",
       "  <tbody>\n",
       "    <tr>\n",
       "      <th>0</th>\n",
       "      <td>94110.0</td>\n",
       "      <td>16294</td>\n",
       "    </tr>\n",
       "    <tr>\n",
       "      <th>1</th>\n",
       "      <td>94114.0</td>\n",
       "      <td>12480</td>\n",
       "    </tr>\n",
       "    <tr>\n",
       "      <th>2</th>\n",
       "      <td>94117.0</td>\n",
       "      <td>10825</td>\n",
       "    </tr>\n",
       "    <tr>\n",
       "      <th>3</th>\n",
       "      <td>94109.0</td>\n",
       "      <td>10412</td>\n",
       "    </tr>\n",
       "    <tr>\n",
       "      <th>4</th>\n",
       "      <td>94103.0</td>\n",
       "      <td>10034</td>\n",
       "    </tr>\n",
       "  </tbody>\n",
       "</table>\n",
       "</div>"
      ],
      "text/plain": [
       "   Zipcode  count\n",
       "0  94110.0  16294\n",
       "1  94114.0  12480\n",
       "2  94117.0  10825\n",
       "3  94109.0  10412\n",
       "4  94103.0  10034"
      ]
     },
     "execution_count": 10,
     "metadata": {},
     "output_type": "execute_result"
    }
   ],
   "source": [
    "\n",
    "g=df_permits_col.Zipcode.value_counts()\n",
    "g=pd.DataFrame(g)\n",
    "s=pd.DataFrame(g)\n",
    "g.reset_index(inplace=True)\n",
    "g.columns = [\"Zipcode\",\"count\"]\n",
    "g.Zipcode.drop_duplicates()\n",
    "x = g[\"Zipcode\"]\n",
    "y = g[\"count\"]\n",
    "g.head()\n",
    "\n",
    "# x = [2,3,4,5,7,9,13,15,17]\n",
    "# y = [2,3,4,5,7,9,13,15,17]\n",
    "plt.scatter(x,y)\n",
    "plt.ylabel('Number for construction permits')\n",
    "plt.xlabel('Zipcode')\n",
    "plt.show()\n",
    "g.head()\n"
   ]
  },
  {
   "cell_type": "code",
   "execution_count": 5,
   "metadata": {},
   "outputs": [
    {
     "name": "stderr",
     "output_type": "stream",
     "text": [
      "/anaconda2/lib/python2.7/site-packages/ipykernel_launcher.py:1: SettingWithCopyWarning: \n",
      "A value is trying to be set on a copy of a slice from a DataFrame.\n",
      "Try using .loc[row_indexer,col_indexer] = value instead\n",
      "\n",
      "See the caveats in the documentation: http://pandas.pydata.org/pandas-docs/stable/indexing.html#indexing-view-versus-copy\n",
      "  \"\"\"Entry point for launching an IPython kernel.\n",
      "/anaconda2/lib/python2.7/site-packages/ipykernel_launcher.py:2: SettingWithCopyWarning: \n",
      "A value is trying to be set on a copy of a slice from a DataFrame.\n",
      "Try using .loc[row_indexer,col_indexer] = value instead\n",
      "\n",
      "See the caveats in the documentation: http://pandas.pydata.org/pandas-docs/stable/indexing.html#indexing-view-versus-copy\n",
      "  \n",
      "/anaconda2/lib/python2.7/site-packages/ipykernel_launcher.py:3: SettingWithCopyWarning: \n",
      "A value is trying to be set on a copy of a slice from a DataFrame.\n",
      "Try using .loc[row_indexer,col_indexer] = value instead\n",
      "\n",
      "See the caveats in the documentation: http://pandas.pydata.org/pandas-docs/stable/indexing.html#indexing-view-versus-copy\n",
      "  This is separate from the ipykernel package so we can avoid doing imports until\n",
      "/anaconda2/lib/python2.7/site-packages/ipykernel_launcher.py:4: SettingWithCopyWarning: \n",
      "A value is trying to be set on a copy of a slice from a DataFrame.\n",
      "Try using .loc[row_indexer,col_indexer] = value instead\n",
      "\n",
      "See the caveats in the documentation: http://pandas.pydata.org/pandas-docs/stable/indexing.html#indexing-view-versus-copy\n",
      "  after removing the cwd from sys.path.\n"
     ]
    },
    {
     "data": {
      "image/png": "[encoded data removed]",
      "text/plain": [
       "<matplotlib.figure.Figure at 0x116af6a50>"
      ]
     },
     "metadata": {},
     "output_type": "display_data"
    },
    {
     "data": {
      "text/plain": [
       "Zipcode  Current_Status\n",
       "94102.0  cancelled           43\n",
       "         complete          3231\n",
       "         expired             37\n",
       "         issued            3203\n",
       "         reinstated          20\n",
       "Name: Delay_Time, dtype: int64"
      ]
     },
     "execution_count": 5,
     "metadata": {},
     "output_type": "execute_result"
    }
   ],
   "source": [
    "df_permits_col['Issued_Date']= pd.to_datetime((df_permits_col['Issued_Date']), format=\"%m/%d/%Y\")\n",
    "df_permits_col['Filed_Date']= pd.to_datetime((df_permits_col['Filed_Date']), format=\"%m/%d/%Y\")\n",
    "df_permits_col['Delay_Time'] = df_permits_col['Issued_Date'].sub(df_permits_col['Filed_Date'], axis=0)\n",
    "df_permits_col['Delay_Time'] = df_permits_col['Delay_Time'] / np.timedelta64(1, 'D')\n",
    "df_permits_col = df_permits_col[np.isfinite(df_permits_col['Delay_Time'])]\n",
    "result=df_permits_col.groupby(['Zipcode', 'Current_Status'])['Delay_Time'].count()\n",
    "\n",
    "x=['94102','94103','94104','94105','94107']\n",
    "y=['cancelled','complete','expired','issued','reinstated']\n",
    "z=result.values\n",
    "plt.scatter(x, y, s=z, alpha=0.5)\n",
    "plt.show()\n",
    "result.head()"
   ]
  },
  {
   "cell_type": "code",
   "execution_count": null,
   "metadata": {
    "collapsed": true
   },
   "outputs": [],
   "source": [
    "slope = regr.coef_[0][0]\n",
    "intercept = regr.intercept_\n",
    "\n",
    "print(\"y = %f + %fx\" %(intercept, slope))\n",
    "print(\"Mean squared error: %f\"\n",
    "      % np.mean((regr.predict(X) - Y) ** 2))\n",
    "# Explained variance score: 1 is perfect prediction\n",
    "print('Variance score: %f' % regr.score(X, Y))\n",
    "\n",
    "# Plot outputs\n",
    "plt.scatter(X, Y,  color='black')\n",
    "plt.plot(X, regr.predict(X), color='red',\n",
    "          linewidth=1)\n",
    "plt.show()"
   ]
  },
  {
   "cell_type": "code",
   "execution_count": 21,
   "metadata": {},
   "outputs": [
    {
     "data": {
      "image/png": "[encoded data removed]",
      "text/plain": [
       "<matplotlib.figure.Figure at 0x118a38d10>"
      ]
     },
     "metadata": {},
     "output_type": "display_data"
    }
   ],
   "source": [
    "import numpy as np\n",
    "import matplotlib.pyplot as plt\n",
    "\n",
    "# sample data\n",
    "x = np.arange(1000)\n",
    "y = 7*x**2 +3*x+ 10 \n",
    "\n",
    "# fit with np.polyfit\n",
    "m, b = np.polyfit(x, y, 1)\n",
    "\n",
    "plt.plot(x, y, '.')\n",
    "plt.plot(x, m*x + b, '-')\n",
    "plt.show()"
   ]
  },
  {
   "cell_type": "code",
   "execution_count": null,
   "metadata": {
    "collapsed": true
   },
   "outputs": [],
   "source": []
  },
  {
   "cell_type": "code",
   "execution_count": null,
   "metadata": {
    "collapsed": true
   },
   "outputs": [],
   "source": []
  }
 ],
 "metadata": {
  "kernelspec": {
   "display_name": "Python 2",
   "language": "python",
   "name": "python2"
  },
  "language_info": {
   "codemirror_mode": {
    "name": "ipython",
    "version": 2
   },
   "file_extension": ".py",
   "mimetype": "text/x-python",
   "name": "python",
   "nbconvert_exporter": "python",
   "pygments_lexer": "ipython2",
   "version": "2.7.14"
  }
 },
 "nbformat": 4,
 "nbformat_minor": 2
}
